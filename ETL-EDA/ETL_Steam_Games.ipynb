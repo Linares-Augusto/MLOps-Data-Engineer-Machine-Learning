{
 "cells": [
  {
   "cell_type": "markdown",
   "id": "5cc7dff0",
   "metadata": {},
   "source": [
    "# ETL STEAM GAMES"
   ]
  },
  {
   "cell_type": "code",
   "execution_count": 159,
   "id": "a90be477",
   "metadata": {},
   "outputs": [],
   "source": [
    "import pandas as pd"
   ]
  },
  {
   "cell_type": "markdown",
   "id": "93f430b2",
   "metadata": {},
   "source": [
    "## Carga de Data "
   ]
  },
  {
   "cell_type": "code",
   "execution_count": 160,
   "id": "043f0991",
   "metadata": {},
   "outputs": [
    {
     "data": {
      "text/html": [
       "<div>\n",
       "<style scoped>\n",
       "    .dataframe tbody tr th:only-of-type {\n",
       "        vertical-align: middle;\n",
       "    }\n",
       "\n",
       "    .dataframe tbody tr th {\n",
       "        vertical-align: top;\n",
       "    }\n",
       "\n",
       "    .dataframe thead th {\n",
       "        text-align: right;\n",
       "    }\n",
       "</style>\n",
       "<table border=\"1\" class=\"dataframe\">\n",
       "  <thead>\n",
       "    <tr style=\"text-align: right;\">\n",
       "      <th></th>\n",
       "      <th>publisher</th>\n",
       "      <th>genres</th>\n",
       "      <th>app_name</th>\n",
       "      <th>title</th>\n",
       "      <th>url</th>\n",
       "      <th>release_date</th>\n",
       "      <th>tags</th>\n",
       "      <th>reviews_url</th>\n",
       "      <th>specs</th>\n",
       "      <th>price</th>\n",
       "      <th>early_access</th>\n",
       "      <th>id</th>\n",
       "      <th>developer</th>\n",
       "    </tr>\n",
       "  </thead>\n",
       "  <tbody>\n",
       "    <tr>\n",
       "      <th>0</th>\n",
       "      <td>None</td>\n",
       "      <td>None</td>\n",
       "      <td>None</td>\n",
       "      <td>None</td>\n",
       "      <td>None</td>\n",
       "      <td>None</td>\n",
       "      <td>None</td>\n",
       "      <td>None</td>\n",
       "      <td>None</td>\n",
       "      <td>None</td>\n",
       "      <td>NaN</td>\n",
       "      <td>NaN</td>\n",
       "      <td>None</td>\n",
       "    </tr>\n",
       "    <tr>\n",
       "      <th>1</th>\n",
       "      <td>None</td>\n",
       "      <td>None</td>\n",
       "      <td>None</td>\n",
       "      <td>None</td>\n",
       "      <td>None</td>\n",
       "      <td>None</td>\n",
       "      <td>None</td>\n",
       "      <td>None</td>\n",
       "      <td>None</td>\n",
       "      <td>None</td>\n",
       "      <td>NaN</td>\n",
       "      <td>NaN</td>\n",
       "      <td>None</td>\n",
       "    </tr>\n",
       "    <tr>\n",
       "      <th>2</th>\n",
       "      <td>None</td>\n",
       "      <td>None</td>\n",
       "      <td>None</td>\n",
       "      <td>None</td>\n",
       "      <td>None</td>\n",
       "      <td>None</td>\n",
       "      <td>None</td>\n",
       "      <td>None</td>\n",
       "      <td>None</td>\n",
       "      <td>None</td>\n",
       "      <td>NaN</td>\n",
       "      <td>NaN</td>\n",
       "      <td>None</td>\n",
       "    </tr>\n",
       "    <tr>\n",
       "      <th>3</th>\n",
       "      <td>None</td>\n",
       "      <td>None</td>\n",
       "      <td>None</td>\n",
       "      <td>None</td>\n",
       "      <td>None</td>\n",
       "      <td>None</td>\n",
       "      <td>None</td>\n",
       "      <td>None</td>\n",
       "      <td>None</td>\n",
       "      <td>None</td>\n",
       "      <td>NaN</td>\n",
       "      <td>NaN</td>\n",
       "      <td>None</td>\n",
       "    </tr>\n",
       "    <tr>\n",
       "      <th>4</th>\n",
       "      <td>None</td>\n",
       "      <td>None</td>\n",
       "      <td>None</td>\n",
       "      <td>None</td>\n",
       "      <td>None</td>\n",
       "      <td>None</td>\n",
       "      <td>None</td>\n",
       "      <td>None</td>\n",
       "      <td>None</td>\n",
       "      <td>None</td>\n",
       "      <td>NaN</td>\n",
       "      <td>NaN</td>\n",
       "      <td>None</td>\n",
       "    </tr>\n",
       "  </tbody>\n",
       "</table>\n",
       "</div>"
      ],
      "text/plain": [
       "  publisher genres app_name title   url release_date  tags reviews_url specs  \\\n",
       "0      None   None     None  None  None         None  None        None  None   \n",
       "1      None   None     None  None  None         None  None        None  None   \n",
       "2      None   None     None  None  None         None  None        None  None   \n",
       "3      None   None     None  None  None         None  None        None  None   \n",
       "4      None   None     None  None  None         None  None        None  None   \n",
       "\n",
       "  price  early_access  id developer  \n",
       "0  None           NaN NaN      None  \n",
       "1  None           NaN NaN      None  \n",
       "2  None           NaN NaN      None  \n",
       "3  None           NaN NaN      None  \n",
       "4  None           NaN NaN      None  "
      ]
     },
     "execution_count": 160,
     "metadata": {},
     "output_type": "execute_result"
    }
   ],
   "source": [
    "df = pd.read_json('Datasets OPS\\steam_games.json.gz', compression='gzip', lines=True)\n",
    "df.head()"
   ]
  },
  {
   "cell_type": "code",
   "execution_count": 161,
   "id": "05dc000d",
   "metadata": {},
   "outputs": [
    {
     "name": "stdout",
     "output_type": "stream",
     "text": [
      "    nombre_campo tipo_datos  no_nulos_%  nulos_%  nulos\n",
      "0      publisher     object       20.00    80.00  96362\n",
      "1         genres     object       23.95    76.05  91593\n",
      "2       app_name     object       26.68    73.32  88312\n",
      "3          title     object       24.98    75.02  90360\n",
      "4            url     object       26.68    73.32  88310\n",
      "5   release_date     object       24.96    75.04  90377\n",
      "6           tags     object       26.54    73.46  88473\n",
      "7    reviews_url     object       26.68    73.32  88312\n",
      "8          specs     object       26.12    73.88  88980\n",
      "9          price     object       25.54    74.46  89687\n",
      "10  early_access    float64       26.68    73.32  88310\n",
      "11            id    float64       26.68    73.32  88312\n",
      "12     developer     object       23.94    76.06  91609\n"
     ]
    }
   ],
   "source": [
    "def obtener_informacion_columnas(df):\n",
    "    mi_dict = {\"nombre_campo\": [], \"tipo_datos\": [], \"no_nulos_%\": [], \"nulos_%\": [], \"nulos\": []}\n",
    "\n",
    "    for columna in df.columns:\n",
    "        porcentaje_no_nulos = (df[columna].count() / len(df)) * 100\n",
    "        mi_dict[\"nombre_campo\"].append(columna)\n",
    "        mi_dict[\"tipo_datos\"].append(df[columna].dtype)\n",
    "        mi_dict[\"no_nulos_%\"].append(round(porcentaje_no_nulos, 2))\n",
    "        mi_dict[\"nulos_%\"].append(round(100 - porcentaje_no_nulos, 2))\n",
    "        mi_dict[\"nulos\"].append(df[columna].isnull().sum())\n",
    "\n",
    "    df_info = pd.DataFrame(mi_dict)\n",
    "    return df_info\n",
    "informacion_columnas = obtener_informacion_columnas(df)\n",
    "print(informacion_columnas)"
   ]
  },
  {
   "cell_type": "markdown",
   "id": "feb128d0",
   "metadata": {},
   "source": [
    "- En Primera Instancia se puede ver bastantes Filas Completas nulas ."
   ]
  },
  {
   "cell_type": "code",
   "execution_count": 164,
   "id": "2fd85b9f",
   "metadata": {},
   "outputs": [],
   "source": [
    "#Remplazo de Filas Nulas  \n",
    "df.dropna(how='all', inplace=True)"
   ]
  },
  {
   "cell_type": "markdown",
   "id": "875569d5",
   "metadata": {},
   "source": [
    "-  Se revisa los tipos de datos de cada columna, a su vez se verifica la existencia de nulos en cada una de ellas."
   ]
  },
  {
   "cell_type": "code",
   "execution_count": 165,
   "id": "04525b2d",
   "metadata": {},
   "outputs": [
    {
     "name": "stdout",
     "output_type": "stream",
     "text": [
      "    nombre_campo tipo_datos  no_nulos_%  nulos_%  nulos\n",
      "0      publisher     object       74.94    25.06   8052\n",
      "1         genres     object       89.78    10.22   3283\n",
      "2       app_name     object       99.99     0.01      2\n",
      "3          title     object       93.62     6.38   2050\n",
      "4            url     object      100.00     0.00      0\n",
      "5   release_date     object       93.57     6.43   2067\n",
      "6           tags     object       99.49     0.51    163\n",
      "7    reviews_url     object       99.99     0.01      2\n",
      "8          specs     object       97.92     2.08    670\n",
      "9          price     object       95.71     4.29   1377\n",
      "10  early_access    float64      100.00     0.00      0\n",
      "11            id    float64       99.99     0.01      2\n",
      "12     developer     object       89.73    10.27   3299\n"
     ]
    }
   ],
   "source": [
    "def obtener_informacion_columnas(df):\n",
    "    mi_dict = {\"nombre_campo\": [], \"tipo_datos\": [], \"no_nulos_%\": [], \"nulos_%\": [], \"nulos\": []}\n",
    "\n",
    "    for columna in df.columns:\n",
    "        porcentaje_no_nulos = (df[columna].count() / len(df)) * 100\n",
    "        mi_dict[\"nombre_campo\"].append(columna)\n",
    "        mi_dict[\"tipo_datos\"].append(df[columna].dtype)\n",
    "        mi_dict[\"no_nulos_%\"].append(round(porcentaje_no_nulos, 2))\n",
    "        mi_dict[\"nulos_%\"].append(round(100 - porcentaje_no_nulos, 2))\n",
    "        mi_dict[\"nulos\"].append(df[columna].isnull().sum())\n",
    "\n",
    "    df_info = pd.DataFrame(mi_dict)\n",
    "    return df_info\n",
    "informacion_columnas = obtener_informacion_columnas(df)\n",
    "print(informacion_columnas)"
   ]
  },
  {
   "cell_type": "markdown",
   "id": "83080d1c",
   "metadata": {},
   "source": [
    "## Comienzo de transformacion por columnas"
   ]
  },
  {
   "cell_type": "markdown",
   "id": "1f61663f",
   "metadata": {},
   "source": [
    "#### Transformacion de columna id"
   ]
  },
  {
   "cell_type": "code",
   "execution_count": 166,
   "id": "140a65b3",
   "metadata": {},
   "outputs": [
    {
     "name": "stdout",
     "output_type": "stream",
     "text": [
      "id\n",
      "612880.0    2\n",
      "670290.0    1\n",
      "767400.0    1\n",
      "20.0        1\n",
      "772590.0    1\n",
      "           ..\n",
      "773650.0    1\n",
      "774271.0    1\n",
      "773690.0    1\n",
      "774279.0    1\n",
      "643980.0    1\n",
      "Name: count, Length: 32132, dtype: int64\n",
      "--------------------------------------------------\n",
      "count\n",
      "False    32131\n",
      "True         1\n",
      "Name: count, dtype: int64\n"
     ]
    }
   ],
   "source": [
    "print(df['id'].value_counts()) #Vemos si hay un valor duplicado\n",
    "print('-'*50)\n",
    "print((df['id'].value_counts() > 1).value_counts()) #Cuantos valores duplicados hay"
   ]
  },
  {
   "cell_type": "code",
   "execution_count": 168,
   "id": "c16c6092",
   "metadata": {},
   "outputs": [
    {
     "data": {
      "text/html": [
       "<div>\n",
       "<style scoped>\n",
       "    .dataframe tbody tr th:only-of-type {\n",
       "        vertical-align: middle;\n",
       "    }\n",
       "\n",
       "    .dataframe tbody tr th {\n",
       "        vertical-align: top;\n",
       "    }\n",
       "\n",
       "    .dataframe thead th {\n",
       "        text-align: right;\n",
       "    }\n",
       "</style>\n",
       "<table border=\"1\" class=\"dataframe\">\n",
       "  <thead>\n",
       "    <tr style=\"text-align: right;\">\n",
       "      <th></th>\n",
       "      <th>publisher</th>\n",
       "      <th>genres</th>\n",
       "      <th>app_name</th>\n",
       "      <th>title</th>\n",
       "      <th>url</th>\n",
       "      <th>release_date</th>\n",
       "      <th>tags</th>\n",
       "      <th>reviews_url</th>\n",
       "      <th>specs</th>\n",
       "      <th>price</th>\n",
       "      <th>early_access</th>\n",
       "      <th>id</th>\n",
       "      <th>developer</th>\n",
       "    </tr>\n",
       "  </thead>\n",
       "  <tbody>\n",
       "    <tr>\n",
       "      <th>88384</th>\n",
       "      <td>None</td>\n",
       "      <td>None</td>\n",
       "      <td>None</td>\n",
       "      <td>None</td>\n",
       "      <td>http://store.steampowered.com/</td>\n",
       "      <td>None</td>\n",
       "      <td>None</td>\n",
       "      <td>None</td>\n",
       "      <td>None</td>\n",
       "      <td>19.99</td>\n",
       "      <td>0.0</td>\n",
       "      <td>NaN</td>\n",
       "      <td>None</td>\n",
       "    </tr>\n",
       "    <tr>\n",
       "      <th>119271</th>\n",
       "      <td>Warner Bros. Interactive Entertainment, Feral ...</td>\n",
       "      <td>[Action, Adventure]</td>\n",
       "      <td>Batman: Arkham City - Game of the Year Edition</td>\n",
       "      <td>Batman: Arkham City - Game of the Year Edition</td>\n",
       "      <td>http://store.steampowered.com/app/200260</td>\n",
       "      <td>2012-09-07</td>\n",
       "      <td>[Action, Open World, Batman, Adventure, Stealt...</td>\n",
       "      <td>None</td>\n",
       "      <td>[Single-player, Steam Achievements, Steam Trad...</td>\n",
       "      <td>19.99</td>\n",
       "      <td>0.0</td>\n",
       "      <td>NaN</td>\n",
       "      <td>Rocksteady Studios,Feral Interactive (Mac)</td>\n",
       "    </tr>\n",
       "  </tbody>\n",
       "</table>\n",
       "</div>"
      ],
      "text/plain": [
       "                                                publisher  \\\n",
       "88384                                                None   \n",
       "119271  Warner Bros. Interactive Entertainment, Feral ...   \n",
       "\n",
       "                     genres                                        app_name  \\\n",
       "88384                  None                                            None   \n",
       "119271  [Action, Adventure]  Batman: Arkham City - Game of the Year Edition   \n",
       "\n",
       "                                                 title  \\\n",
       "88384                                             None   \n",
       "119271  Batman: Arkham City - Game of the Year Edition   \n",
       "\n",
       "                                             url release_date  \\\n",
       "88384             http://store.steampowered.com/         None   \n",
       "119271  http://store.steampowered.com/app/200260   2012-09-07   \n",
       "\n",
       "                                                     tags reviews_url  \\\n",
       "88384                                                None        None   \n",
       "119271  [Action, Open World, Batman, Adventure, Stealt...        None   \n",
       "\n",
       "                                                    specs  price  \\\n",
       "88384                                                None  19.99   \n",
       "119271  [Single-player, Steam Achievements, Steam Trad...  19.99   \n",
       "\n",
       "        early_access  id                                   developer  \n",
       "88384            0.0 NaN                                        None  \n",
       "119271           0.0 NaN  Rocksteady Studios,Feral Interactive (Mac)  "
      ]
     },
     "execution_count": 168,
     "metadata": {},
     "output_type": "execute_result"
    }
   ],
   "source": [
    "#Vemos si hay id nulos\n",
    "df[df['id'].isna()]"
   ]
  },
  {
   "cell_type": "markdown",
   "id": "e6e73858",
   "metadata": {},
   "source": [
    "- Se encontraron dos filas con id nulo, una solo posee valores de url y precio, ademas el url es de la store de steam por lo tanto se eliminara.\n",
    "- La otra fila con id nulo estaba replicada de otra fila, ya que tiene los mismos valores, por esto tambien se eliminara"
   ]
  },
  {
   "cell_type": "code",
   "execution_count": 169,
   "id": "4acca746",
   "metadata": {},
   "outputs": [],
   "source": [
    "#Eliminacion de  valores duplicados y nulos\n",
    "df.drop_duplicates(subset='id', inplace=True) \n",
    "df.dropna(subset='id', inplace=True)\n",
    "\n",
    "#Cambio el tipo de dato\n",
    "df['id'] = df['id'].astype(int) "
   ]
  },
  {
   "cell_type": "markdown",
   "id": "39e87a6a",
   "metadata": {},
   "source": [
    "#### Transformacion de columna genres\n"
   ]
  },
  {
   "cell_type": "code",
   "execution_count": 170,
   "id": "6383ecea",
   "metadata": {},
   "outputs": [
    {
     "data": {
      "text/plain": [
       "genres\n",
       "[Action]                                                                  1879\n",
       "[Action, Indie]                                                           1650\n",
       "[Simulation]                                                              1396\n",
       "[Casual, Simulation]                                                      1359\n",
       "[Action, Adventure, Indie]                                                1082\n",
       "                                                                          ... \n",
       "[Sports, Simulation]                                                         1\n",
       "[Action, Strategy, Simulation]                                               1\n",
       "[Free to Play, Action, Strategy, Indie, Sports]                              1\n",
       "[Action, Adventure, RPG, Indie]                                              1\n",
       "[Action, Casual, Free to Play, Massively Multiplayer, RPG, Simulation]       1\n",
       "Name: count, Length: 883, dtype: int64"
      ]
     },
     "execution_count": 170,
     "metadata": {},
     "output_type": "execute_result"
    }
   ],
   "source": [
    "#Vemos los valores unicos que tenemos\n",
    "df['genres'].value_counts()"
   ]
  },
  {
   "cell_type": "markdown",
   "id": "4683fc1c",
   "metadata": {},
   "source": [
    "- Tags y Genre tienen informacion muy similar que se tienen datos que pueden rellenar los nulos que contiene genre"
   ]
  },
  {
   "cell_type": "code",
   "execution_count": 171,
   "id": "16fcb083",
   "metadata": {},
   "outputs": [],
   "source": [
    "#Interpeto que tiene una relacion tags y geners por el contenido que tienen\n",
    "df['genres'] = df['genres'].fillna(df['tags'])\n",
    "# borro el resto de los nulos\n",
    "df.dropna(subset='genres', inplace=True) "
   ]
  },
  {
   "cell_type": "markdown",
   "id": "bc0d3904",
   "metadata": {},
   "source": [
    "#### Transformacion de columna price"
   ]
  },
  {
   "cell_type": "code",
   "execution_count": 173,
   "id": "0be9a59b",
   "metadata": {},
   "outputs": [
    {
     "data": {
      "text/plain": [
       "array([4.99, 'Free To Play', 'Free to Play', 0.99, 2.99, 3.99, 9.99,\n",
       "       18.99, 29.99, None, 'Free', 10.99, 1.5899999999999999, 14.99, 1.99,\n",
       "       59.99, 8.99, 6.99, 7.99, 39.99, 19.99, 7.49, 12.99, 5.99, 2.49,\n",
       "       15.99, 1.25, 24.99, 17.99, 61.99, 3.49, 11.99, 13.99, 'Free Demo',\n",
       "       'Play for Free!', 34.99, 74.76, 1.49, 32.99, 99.99, 14.95, 69.99,\n",
       "       16.99, 79.99, 49.99, 5.0, 44.99, 13.98, 29.96, 109.99, 149.99,\n",
       "       771.71, 'Install Now', 21.99, 89.99,\n",
       "       'Play WARMACHINE: Tactics Demo', 0.98, 139.92, 4.29, 64.99,\n",
       "       'Free Mod', 54.99, 74.99, 'Install Theme', 0.89, 'Third-party',\n",
       "       0.5, 'Play Now', 299.99, 1.29, 119.99, 3.0, 15.0, 5.49, 23.99,\n",
       "       49.0, 20.99, 10.93, 1.3900000000000001,\n",
       "       'Free HITMAN™ Holiday Pack', 36.99, 4.49, 2.0, 4.0, 9.0, 234.99,\n",
       "       1.9500000000000002, 1.5, 199.0, 189.0, 6.66, 27.99, 10.49, 129.99,\n",
       "       179.0, 26.99, 399.99, 31.99, 399.0, 20.0, 40.0, 3.33, 199.99,\n",
       "       22.99, 320.0, 38.85, 71.7, 59.95, 995.0, 27.49, 3.39, 6.0, 19.95,\n",
       "       499.99, 16.06, 4.68, 131.4, 44.98, 202.76, 1.0, 2.3,\n",
       "       0.9500000000000001, 172.24, 249.99, 2.9699999999999998, 10.96,\n",
       "       10.0, 30.0, 2.66, 6.48, 19.29, 11.15, 18.9, 2.89, 'Play the Demo',\n",
       "       99.0, 87.94, 599.0, 8.98, 9.69, 0.49, 9.98, 9.95, 7.0,\n",
       "       'Starting at $499.00', 'Starting at $449.00', 12.89, 6.49, 1.87,\n",
       "       42.99, 41.99, 289.99, 'Free to Try', 23.96, 5.65, 12.0, 13.37,\n",
       "       189.96, 124.99, 'Free Movie', 19.98, 160.91, 'Free to Use'],\n",
       "      dtype=object)"
      ]
     },
     "execution_count": 173,
     "metadata": {},
     "output_type": "execute_result"
    }
   ],
   "source": [
    "#Vemos los valores unicos que tenemos\n",
    "df['price'].unique()"
   ]
  },
  {
   "cell_type": "code",
   "execution_count": 174,
   "id": "55f0df0e",
   "metadata": {},
   "outputs": [],
   "source": [
    "#Estos casos partiuclares los ponemos en numero\n",
    "df.loc[df['price'] == 'Starting at $499.00', 'price'] = 499.00\n",
    "df.loc[df['price'] == 'Starting at $449.00', 'price'] = 449.00"
   ]
  },
  {
   "cell_type": "markdown",
   "id": "5c6af4ea",
   "metadata": {},
   "source": [
    "- Se Reemplaza la columna original con la nueva versión convertida a números y con 0.0 en todos los casos donde no se pudo convertir."
   ]
  },
  {
   "cell_type": "code",
   "execution_count": 175,
   "id": "db1de9df",
   "metadata": {},
   "outputs": [],
   "source": [
    "df['price'] = pd.to_numeric(df['price'], errors='coerce').fillna(0.0)"
   ]
  },
  {
   "cell_type": "markdown",
   "id": "f122338c",
   "metadata": {},
   "source": [
    "#### Transformacion de columna relase data"
   ]
  },
  {
   "cell_type": "code",
   "execution_count": 177,
   "id": "ca41c047",
   "metadata": {},
   "outputs": [
    {
     "data": {
      "text/plain": [
       "array(['2018-01-04', '2017-07-24', '2017-12-07', ..., '2016-11-19',\n",
       "       'January 2018', '2018-10-01'], dtype=object)"
      ]
     },
     "execution_count": 177,
     "metadata": {},
     "output_type": "execute_result"
    }
   ],
   "source": [
    "#Vemos los valores unicos que tenemos\n",
    "df['release_date'].unique()"
   ]
  },
  {
   "cell_type": "code",
   "execution_count": 180,
   "id": "6d398e36",
   "metadata": {},
   "outputs": [
    {
     "name": "stdout",
     "output_type": "stream",
     "text": [
      "82\n"
     ]
    },
    {
     "data": {
      "text/plain": [
       "array(['2018', '2017', 'None', 'Soon..', '1997', '1998', '2016', '2006',\n",
       "       'Beta测试已开启', '2005', '2003', '2007', '2002', '2000', '1995',\n",
       "       '1996', '1994', '2001', '1993', '2004', '1999', '2008', '2009',\n",
       "       '1992', '1989', '2010', '2011', '2013', '2012', '2014', '1983',\n",
       "       '1984', '2015', '1990', '1988', '1991', '1985', '1982', '1987',\n",
       "       'Coming Soon', 'TBA', \"When it's done\", 'coming soon', '1981',\n",
       "       'soon', '14 July', '1986', 'To be Announced', 'TBD', 'Soon',\n",
       "       'Please wait warmly', 'early access', 'SOON',\n",
       "       'Coming Soon/Próximamente', '2021', '5275', 'Coming soon',\n",
       "       '0̵1̴0̵0̶1̷0̶0̵0̴ ̴0̶0̶1̶1̶0̷0̶1̵1̴ ̸0̶0̶1̶1̵0̶1̷0̴0̵ ̴0̶1̷0̸1̵0̷0̴1̶0̴ ̴0̷0̴1̷1̶0̶1̵1̷1̵ ̵',\n",
       "       '\"\"\"Soon\"\"\"', 'Demo coming soon.', 'Not yet available',\n",
       "       \"C'est bientôt...                    (ou pas)\", '2019',\n",
       "       'Datachunks conflicted. Be vigiliant.', 'Demo is available now!',\n",
       "       '1975', '1970', 'Play Beta in demo!', 'Coming Soon!',\n",
       "       'To be announced', 'When it is finished', 'Release Date TBA',\n",
       "       'When it is ready', 'Early Access Starting Soon!', 'Comming Soon',\n",
       "       'Early Access soon', 'To Be Announced', 'Coming soon..', '1980',\n",
       "       'Soon™', \"When it's done!\", 'SOON™'], dtype=object)"
      ]
     },
     "execution_count": 180,
     "metadata": {},
     "output_type": "execute_result"
    }
   ],
   "source": [
    "# Filtrar valores que NO tengan el patrón de fecha con guiones\n",
    "valores_raros = df.loc[~df['release_date'].str.match(r'^\\d{4}-\\d{2}-\\d{2}$', na=False), 'release_date'].unique()\n",
    "\n",
    "print(len(valores_raros))\n",
    "valores_raros\n"
   ]
  },
  {
   "cell_type": "code",
   "execution_count": 179,
   "id": "fff4bb3c",
   "metadata": {},
   "outputs": [],
   "source": [
    "import re\n",
    "\n",
    "def extraer_anio(fecha):\n",
    "    match = re.search(r'\\d{4}', fecha)\n",
    "    return match.group(0) if match else fecha\n",
    "\n",
    "df['release_date'] = df['release_date'].astype(str).apply(extraer_anio)"
   ]
  },
  {
   "cell_type": "code",
   "execution_count": 181,
   "id": "2754575e",
   "metadata": {},
   "outputs": [],
   "source": [
    "df['release_date'] = pd.to_numeric(df['release_date'], errors='coerce')"
   ]
  },
  {
   "cell_type": "markdown",
   "id": "addbe568",
   "metadata": {},
   "source": [
    "- Borramos los nulos y verificamos que haya quedado bien el formato"
   ]
  },
  {
   "cell_type": "code",
   "execution_count": 185,
   "id": "3c83650b",
   "metadata": {},
   "outputs": [],
   "source": [
    "#borramos el resto de los nulos\n",
    "df.dropna(subset='release_date', inplace=True) \n",
    "df['release_date'] = df['release_date'].astype(int) "
   ]
  },
  {
   "cell_type": "markdown",
   "id": "c59f926c",
   "metadata": {},
   "source": [
    "#### Tranformacion de columna developer"
   ]
  },
  {
   "cell_type": "code",
   "execution_count": 191,
   "id": "fa5e638d",
   "metadata": {},
   "outputs": [
    {
     "data": {
      "text/plain": [
       "array(['Kotoshiro', 'Secret Level SRL', 'Poolians.com', ...,\n",
       "       'Oscar Ortigueira López,OrtiGames/OrtiSoft', 'INGAME',\n",
       "       'Bidoniera Games'], dtype=object)"
      ]
     },
     "execution_count": 191,
     "metadata": {},
     "output_type": "execute_result"
    }
   ],
   "source": [
    "# Vemos los valores unicos\n",
    "df['developer'].unique()"
   ]
  },
  {
   "cell_type": "code",
   "execution_count": 193,
   "id": "02bfad2f",
   "metadata": {},
   "outputs": [
    {
     "data": {
      "text/html": [
       "<div>\n",
       "<style scoped>\n",
       "    .dataframe tbody tr th:only-of-type {\n",
       "        vertical-align: middle;\n",
       "    }\n",
       "\n",
       "    .dataframe tbody tr th {\n",
       "        vertical-align: top;\n",
       "    }\n",
       "\n",
       "    .dataframe thead th {\n",
       "        text-align: right;\n",
       "    }\n",
       "</style>\n",
       "<table border=\"1\" class=\"dataframe\">\n",
       "  <thead>\n",
       "    <tr style=\"text-align: right;\">\n",
       "      <th></th>\n",
       "      <th>publisher</th>\n",
       "      <th>genres</th>\n",
       "      <th>app_name</th>\n",
       "      <th>title</th>\n",
       "      <th>url</th>\n",
       "      <th>release_date</th>\n",
       "      <th>tags</th>\n",
       "      <th>reviews_url</th>\n",
       "      <th>specs</th>\n",
       "      <th>price</th>\n",
       "      <th>early_access</th>\n",
       "      <th>id</th>\n",
       "      <th>developer</th>\n",
       "    </tr>\n",
       "  </thead>\n",
       "  <tbody>\n",
       "    <tr>\n",
       "      <th>88336</th>\n",
       "      <td>None</td>\n",
       "      <td>[Design &amp; Illustration, Tutorial]</td>\n",
       "      <td>Robotpencil Presents: Understanding 3D for Con...</td>\n",
       "      <td>Robotpencil Presents: Understanding 3D for Con...</td>\n",
       "      <td>http://store.steampowered.com/app/777910/Robot...</td>\n",
       "      <td>2018</td>\n",
       "      <td>[Design &amp; Illustration, Tutorial]</td>\n",
       "      <td>http://steamcommunity.com/app/777910/reviews/?...</td>\n",
       "      <td>None</td>\n",
       "      <td>4.99</td>\n",
       "      <td>0.0</td>\n",
       "      <td>777910</td>\n",
       "      <td>None</td>\n",
       "    </tr>\n",
       "    <tr>\n",
       "      <th>88427</th>\n",
       "      <td>Retroism</td>\n",
       "      <td>[Simulation]</td>\n",
       "      <td>Tycoon City: New York</td>\n",
       "      <td>Tycoon City: New York</td>\n",
       "      <td>http://store.steampowered.com/app/9730/Tycoon_...</td>\n",
       "      <td>2006</td>\n",
       "      <td>[Simulation, Management, City Builder]</td>\n",
       "      <td>http://steamcommunity.com/app/9730/reviews/?br...</td>\n",
       "      <td>[Single-player]</td>\n",
       "      <td>9.99</td>\n",
       "      <td>0.0</td>\n",
       "      <td>9730</td>\n",
       "      <td>None</td>\n",
       "    </tr>\n",
       "    <tr>\n",
       "      <th>88576</th>\n",
       "      <td>ValuSoft, Retroism</td>\n",
       "      <td>[Simulation, Sports]</td>\n",
       "      <td>Hunting Unlimited 2010</td>\n",
       "      <td>Hunting Unlimited 2010</td>\n",
       "      <td>http://store.steampowered.com/app/12690/Huntin...</td>\n",
       "      <td>2009</td>\n",
       "      <td>[Simulation, Hunting, Sports, America]</td>\n",
       "      <td>http://steamcommunity.com/app/12690/reviews/?b...</td>\n",
       "      <td>[Single-player]</td>\n",
       "      <td>9.99</td>\n",
       "      <td>0.0</td>\n",
       "      <td>12690</td>\n",
       "      <td>None</td>\n",
       "    </tr>\n",
       "    <tr>\n",
       "      <th>88614</th>\n",
       "      <td>Meridian4</td>\n",
       "      <td>[Action, Racing]</td>\n",
       "      <td>Crash Time 2</td>\n",
       "      <td>Crash Time 2</td>\n",
       "      <td>http://store.steampowered.com/app/11390/Crash_...</td>\n",
       "      <td>2009</td>\n",
       "      <td>[Racing, Action, Open World, Singleplayer, Dri...</td>\n",
       "      <td>http://steamcommunity.com/app/11390/reviews/?b...</td>\n",
       "      <td>[Single-player]</td>\n",
       "      <td>9.99</td>\n",
       "      <td>0.0</td>\n",
       "      <td>11390</td>\n",
       "      <td>None</td>\n",
       "    </tr>\n",
       "    <tr>\n",
       "      <th>88617</th>\n",
       "      <td>ValuSoft, Retroism</td>\n",
       "      <td>[Simulation]</td>\n",
       "      <td>18 Wheels of Steel: Extreme Trucker</td>\n",
       "      <td>18 Wheels of Steel: Extreme Trucker</td>\n",
       "      <td>http://store.steampowered.com/app/33730/18_Whe...</td>\n",
       "      <td>2009</td>\n",
       "      <td>[Simulation, Driving]</td>\n",
       "      <td>http://steamcommunity.com/app/33730/reviews/?b...</td>\n",
       "      <td>[Single-player]</td>\n",
       "      <td>9.99</td>\n",
       "      <td>0.0</td>\n",
       "      <td>33730</td>\n",
       "      <td>None</td>\n",
       "    </tr>\n",
       "    <tr>\n",
       "      <th>...</th>\n",
       "      <td>...</td>\n",
       "      <td>...</td>\n",
       "      <td>...</td>\n",
       "      <td>...</td>\n",
       "      <td>...</td>\n",
       "      <td>...</td>\n",
       "      <td>...</td>\n",
       "      <td>...</td>\n",
       "      <td>...</td>\n",
       "      <td>...</td>\n",
       "      <td>...</td>\n",
       "      <td>...</td>\n",
       "      <td>...</td>\n",
       "    </tr>\n",
       "    <tr>\n",
       "      <th>120297</th>\n",
       "      <td>None</td>\n",
       "      <td>[Design &amp; Illustration, Tutorial]</td>\n",
       "      <td>Robotpencil Presents: Start with Color</td>\n",
       "      <td>Robotpencil Presents: Start with Color</td>\n",
       "      <td>http://store.steampowered.com/app/775660/Robot...</td>\n",
       "      <td>2017</td>\n",
       "      <td>[Design &amp; Illustration, Tutorial]</td>\n",
       "      <td>http://steamcommunity.com/app/775660/reviews/?...</td>\n",
       "      <td>None</td>\n",
       "      <td>3.99</td>\n",
       "      <td>0.0</td>\n",
       "      <td>775660</td>\n",
       "      <td>None</td>\n",
       "    </tr>\n",
       "    <tr>\n",
       "      <th>120428</th>\n",
       "      <td>None</td>\n",
       "      <td>[Design &amp; Illustration, Tutorial]</td>\n",
       "      <td>Robotpencil Presents: Exercise: Brushwork</td>\n",
       "      <td>Robotpencil Presents: Exercise: Brushwork</td>\n",
       "      <td>http://store.steampowered.com/app/775640/Robot...</td>\n",
       "      <td>2018</td>\n",
       "      <td>[Design &amp; Illustration, Tutorial]</td>\n",
       "      <td>http://steamcommunity.com/app/775640/reviews/?...</td>\n",
       "      <td>None</td>\n",
       "      <td>3.99</td>\n",
       "      <td>0.0</td>\n",
       "      <td>775640</td>\n",
       "      <td>None</td>\n",
       "    </tr>\n",
       "    <tr>\n",
       "      <th>120429</th>\n",
       "      <td>None</td>\n",
       "      <td>[Design &amp; Illustration, Tutorial]</td>\n",
       "      <td>Robotpencil Presents: Creative Composition</td>\n",
       "      <td>Robotpencil Presents: Creative Composition</td>\n",
       "      <td>http://store.steampowered.com/app/777930/Robot...</td>\n",
       "      <td>2018</td>\n",
       "      <td>[Design &amp; Illustration, Tutorial]</td>\n",
       "      <td>http://steamcommunity.com/app/777930/reviews/?...</td>\n",
       "      <td>None</td>\n",
       "      <td>3.99</td>\n",
       "      <td>0.0</td>\n",
       "      <td>777930</td>\n",
       "      <td>None</td>\n",
       "    </tr>\n",
       "    <tr>\n",
       "      <th>120430</th>\n",
       "      <td>None</td>\n",
       "      <td>[Movie]</td>\n",
       "      <td>The Gamble House</td>\n",
       "      <td>The Gamble House</td>\n",
       "      <td>http://store.steampowered.com/app/775370/The_G...</td>\n",
       "      <td>2016</td>\n",
       "      <td>[Movie]</td>\n",
       "      <td>http://steamcommunity.com/app/775370/reviews/?...</td>\n",
       "      <td>[Captions available]</td>\n",
       "      <td>4.99</td>\n",
       "      <td>0.0</td>\n",
       "      <td>775370</td>\n",
       "      <td>None</td>\n",
       "    </tr>\n",
       "    <tr>\n",
       "      <th>120431</th>\n",
       "      <td>None</td>\n",
       "      <td>[Design &amp; Illustration, Tutorial]</td>\n",
       "      <td>Kalen Chock Presents: 2017 Free Tutorial</td>\n",
       "      <td>Kalen Chock Presents: 2017 Free Tutorial</td>\n",
       "      <td>http://store.steampowered.com/app/777950/Kalen...</td>\n",
       "      <td>2018</td>\n",
       "      <td>[Design &amp; Illustration, Tutorial]</td>\n",
       "      <td>http://steamcommunity.com/app/777950/reviews/?...</td>\n",
       "      <td>None</td>\n",
       "      <td>0.00</td>\n",
       "      <td>0.0</td>\n",
       "      <td>777950</td>\n",
       "      <td>None</td>\n",
       "    </tr>\n",
       "  </tbody>\n",
       "</table>\n",
       "<p>1224 rows × 13 columns</p>\n",
       "</div>"
      ],
      "text/plain": [
       "                 publisher                             genres  \\\n",
       "88336                 None  [Design & Illustration, Tutorial]   \n",
       "88427             Retroism                       [Simulation]   \n",
       "88576   ValuSoft, Retroism               [Simulation, Sports]   \n",
       "88614            Meridian4                   [Action, Racing]   \n",
       "88617   ValuSoft, Retroism                       [Simulation]   \n",
       "...                    ...                                ...   \n",
       "120297                None  [Design & Illustration, Tutorial]   \n",
       "120428                None  [Design & Illustration, Tutorial]   \n",
       "120429                None  [Design & Illustration, Tutorial]   \n",
       "120430                None                            [Movie]   \n",
       "120431                None  [Design & Illustration, Tutorial]   \n",
       "\n",
       "                                                 app_name  \\\n",
       "88336   Robotpencil Presents: Understanding 3D for Con...   \n",
       "88427                               Tycoon City: New York   \n",
       "88576                              Hunting Unlimited 2010   \n",
       "88614                                        Crash Time 2   \n",
       "88617                 18 Wheels of Steel: Extreme Trucker   \n",
       "...                                                   ...   \n",
       "120297             Robotpencil Presents: Start with Color   \n",
       "120428          Robotpencil Presents: Exercise: Brushwork   \n",
       "120429         Robotpencil Presents: Creative Composition   \n",
       "120430                                   The Gamble House   \n",
       "120431           Kalen Chock Presents: 2017 Free Tutorial   \n",
       "\n",
       "                                                    title  \\\n",
       "88336   Robotpencil Presents: Understanding 3D for Con...   \n",
       "88427                               Tycoon City: New York   \n",
       "88576                              Hunting Unlimited 2010   \n",
       "88614                                        Crash Time 2   \n",
       "88617                 18 Wheels of Steel: Extreme Trucker   \n",
       "...                                                   ...   \n",
       "120297             Robotpencil Presents: Start with Color   \n",
       "120428          Robotpencil Presents: Exercise: Brushwork   \n",
       "120429         Robotpencil Presents: Creative Composition   \n",
       "120430                                   The Gamble House   \n",
       "120431           Kalen Chock Presents: 2017 Free Tutorial   \n",
       "\n",
       "                                                      url  release_date  \\\n",
       "88336   http://store.steampowered.com/app/777910/Robot...          2018   \n",
       "88427   http://store.steampowered.com/app/9730/Tycoon_...          2006   \n",
       "88576   http://store.steampowered.com/app/12690/Huntin...          2009   \n",
       "88614   http://store.steampowered.com/app/11390/Crash_...          2009   \n",
       "88617   http://store.steampowered.com/app/33730/18_Whe...          2009   \n",
       "...                                                   ...           ...   \n",
       "120297  http://store.steampowered.com/app/775660/Robot...          2017   \n",
       "120428  http://store.steampowered.com/app/775640/Robot...          2018   \n",
       "120429  http://store.steampowered.com/app/777930/Robot...          2018   \n",
       "120430  http://store.steampowered.com/app/775370/The_G...          2016   \n",
       "120431  http://store.steampowered.com/app/777950/Kalen...          2018   \n",
       "\n",
       "                                                     tags  \\\n",
       "88336                   [Design & Illustration, Tutorial]   \n",
       "88427              [Simulation, Management, City Builder]   \n",
       "88576              [Simulation, Hunting, Sports, America]   \n",
       "88614   [Racing, Action, Open World, Singleplayer, Dri...   \n",
       "88617                               [Simulation, Driving]   \n",
       "...                                                   ...   \n",
       "120297                  [Design & Illustration, Tutorial]   \n",
       "120428                  [Design & Illustration, Tutorial]   \n",
       "120429                  [Design & Illustration, Tutorial]   \n",
       "120430                                            [Movie]   \n",
       "120431                  [Design & Illustration, Tutorial]   \n",
       "\n",
       "                                              reviews_url  \\\n",
       "88336   http://steamcommunity.com/app/777910/reviews/?...   \n",
       "88427   http://steamcommunity.com/app/9730/reviews/?br...   \n",
       "88576   http://steamcommunity.com/app/12690/reviews/?b...   \n",
       "88614   http://steamcommunity.com/app/11390/reviews/?b...   \n",
       "88617   http://steamcommunity.com/app/33730/reviews/?b...   \n",
       "...                                                   ...   \n",
       "120297  http://steamcommunity.com/app/775660/reviews/?...   \n",
       "120428  http://steamcommunity.com/app/775640/reviews/?...   \n",
       "120429  http://steamcommunity.com/app/777930/reviews/?...   \n",
       "120430  http://steamcommunity.com/app/775370/reviews/?...   \n",
       "120431  http://steamcommunity.com/app/777950/reviews/?...   \n",
       "\n",
       "                       specs  price  early_access      id developer  \n",
       "88336                   None   4.99           0.0  777910      None  \n",
       "88427        [Single-player]   9.99           0.0    9730      None  \n",
       "88576        [Single-player]   9.99           0.0   12690      None  \n",
       "88614        [Single-player]   9.99           0.0   11390      None  \n",
       "88617        [Single-player]   9.99           0.0   33730      None  \n",
       "...                      ...    ...           ...     ...       ...  \n",
       "120297                  None   3.99           0.0  775660      None  \n",
       "120428                  None   3.99           0.0  775640      None  \n",
       "120429                  None   3.99           0.0  777930      None  \n",
       "120430  [Captions available]   4.99           0.0  775370      None  \n",
       "120431                  None   0.00           0.0  777950      None  \n",
       "\n",
       "[1224 rows x 13 columns]"
      ]
     },
     "execution_count": 193,
     "metadata": {},
     "output_type": "execute_result"
    }
   ],
   "source": [
    "# Vemos los nulos\n",
    "df[df['developer'].isna()]"
   ]
  },
  {
   "cell_type": "markdown",
   "id": "722267c0",
   "metadata": {},
   "source": [
    "- publisher tiene algunas similitudes con developer, los nulos los relleno con esta informacion con los que se pueden"
   ]
  },
  {
   "cell_type": "code",
   "execution_count": 194,
   "id": "030bea3c",
   "metadata": {},
   "outputs": [],
   "source": [
    "# Aplico a los none como los developer aquel que lo publico (publisher)\n",
    "df.loc[(df['developer'].isna()) & (df['publisher'].notnull()),'developer'] = df[(df['developer'].isna()) & (df['publisher'].notnull())]['publisher']"
   ]
  },
  {
   "cell_type": "code",
   "execution_count": 195,
   "id": "3130c44a",
   "metadata": {},
   "outputs": [],
   "source": [
    "# Borro el resto de los null\n",
    "df.dropna(subset='developer', inplace=True)\n",
    "\n",
    "# pongo la primera letra de todas las palabras en mayuscula\n",
    "df['developer']= df['developer'].apply(lambda x: x.rstrip().title())"
   ]
  },
  {
   "cell_type": "markdown",
   "id": "77f3f1d8",
   "metadata": {},
   "source": [
    "#### Retoques finales"
   ]
  },
  {
   "cell_type": "markdown",
   "id": "4ed2627d",
   "metadata": {},
   "source": [
    "- Verificamos los nulos que quedaron"
   ]
  },
  {
   "cell_type": "code",
   "execution_count": 196,
   "id": "44057b85",
   "metadata": {},
   "outputs": [
    {
     "data": {
      "text/plain": [
       "publisher       4776\n",
       "genres             0\n",
       "app_name           0\n",
       "title              0\n",
       "url                0\n",
       "release_date       0\n",
       "tags              24\n",
       "reviews_url        0\n",
       "specs            286\n",
       "price              0\n",
       "early_access       0\n",
       "id                 0\n",
       "developer          0\n",
       "dtype: int64"
      ]
     },
     "execution_count": 196,
     "metadata": {},
     "output_type": "execute_result"
    }
   ],
   "source": [
    "df.isna().sum()"
   ]
  },
  {
   "cell_type": "markdown",
   "id": "9e07581d",
   "metadata": {},
   "source": [
    "- Borro las columnas que me resultan que no tienen informacion imporante"
   ]
  },
  {
   "cell_type": "code",
   "execution_count": 197,
   "id": "eda94c1c",
   "metadata": {},
   "outputs": [
    {
     "data": {
      "text/html": [
       "<div>\n",
       "<style scoped>\n",
       "    .dataframe tbody tr th:only-of-type {\n",
       "        vertical-align: middle;\n",
       "    }\n",
       "\n",
       "    .dataframe tbody tr th {\n",
       "        vertical-align: top;\n",
       "    }\n",
       "\n",
       "    .dataframe thead th {\n",
       "        text-align: right;\n",
       "    }\n",
       "</style>\n",
       "<table border=\"1\" class=\"dataframe\">\n",
       "  <thead>\n",
       "    <tr style=\"text-align: right;\">\n",
       "      <th></th>\n",
       "      <th>genres</th>\n",
       "      <th>title</th>\n",
       "      <th>release_date</th>\n",
       "      <th>price</th>\n",
       "      <th>id</th>\n",
       "      <th>developer</th>\n",
       "    </tr>\n",
       "  </thead>\n",
       "  <tbody>\n",
       "    <tr>\n",
       "      <th>0</th>\n",
       "      <td>[Action, Casual, Indie, Simulation, Strategy]</td>\n",
       "      <td>Lost Summoner Kitty</td>\n",
       "      <td>2018</td>\n",
       "      <td>4.99</td>\n",
       "      <td>761140</td>\n",
       "      <td>Kotoshiro</td>\n",
       "    </tr>\n",
       "    <tr>\n",
       "      <th>1</th>\n",
       "      <td>[Free to Play, Indie, RPG, Strategy]</td>\n",
       "      <td>Ironbound</td>\n",
       "      <td>2018</td>\n",
       "      <td>0.00</td>\n",
       "      <td>643980</td>\n",
       "      <td>Secret Level Srl</td>\n",
       "    </tr>\n",
       "    <tr>\n",
       "      <th>2</th>\n",
       "      <td>[Casual, Free to Play, Indie, Simulation, Sports]</td>\n",
       "      <td>Real Pool 3D - Poolians</td>\n",
       "      <td>2017</td>\n",
       "      <td>0.00</td>\n",
       "      <td>670290</td>\n",
       "      <td>Poolians.Com</td>\n",
       "    </tr>\n",
       "    <tr>\n",
       "      <th>3</th>\n",
       "      <td>[Action, Adventure, Casual]</td>\n",
       "      <td>弹炸人2222</td>\n",
       "      <td>2017</td>\n",
       "      <td>0.99</td>\n",
       "      <td>767400</td>\n",
       "      <td>彼岸领域</td>\n",
       "    </tr>\n",
       "    <tr>\n",
       "      <th>4</th>\n",
       "      <td>[Action, Adventure, Simulation]</td>\n",
       "      <td>Battle Royale Trainer</td>\n",
       "      <td>2018</td>\n",
       "      <td>3.99</td>\n",
       "      <td>772540</td>\n",
       "      <td>Trickjump Games Ltd</td>\n",
       "    </tr>\n",
       "  </tbody>\n",
       "</table>\n",
       "</div>"
      ],
      "text/plain": [
       "                                              genres                    title  \\\n",
       "0      [Action, Casual, Indie, Simulation, Strategy]      Lost Summoner Kitty   \n",
       "1               [Free to Play, Indie, RPG, Strategy]                Ironbound   \n",
       "2  [Casual, Free to Play, Indie, Simulation, Sports]  Real Pool 3D - Poolians   \n",
       "3                        [Action, Adventure, Casual]                  弹炸人2222   \n",
       "4                    [Action, Adventure, Simulation]    Battle Royale Trainer   \n",
       "\n",
       "   release_date  price      id            developer  \n",
       "0          2018   4.99  761140            Kotoshiro  \n",
       "1          2018   0.00  643980     Secret Level Srl  \n",
       "2          2017   0.00  670290         Poolians.Com  \n",
       "3          2017   0.99  767400                 彼岸领域  \n",
       "4          2018   3.99  772540  Trickjump Games Ltd  "
      ]
     },
     "execution_count": 197,
     "metadata": {},
     "output_type": "execute_result"
    }
   ],
   "source": [
    "# Borro columnas que no tienen informacion importante\n",
    "df.drop(columns=['publisher','url','app_name','tags','reviews_url','specs', 'early_access'], inplace=True)\n",
    "df.reset_index(drop=True, inplace=True)\n",
    "df.head()"
   ]
  },
  {
   "cell_type": "code",
   "execution_count": 200,
   "id": "98adda41",
   "metadata": {},
   "outputs": [
    {
     "name": "stdout",
     "output_type": "stream",
     "text": [
      "   nombre_campo tipo_datos  no_nulos_%  nulos_%  nulos\n",
      "0        genres     object       100.0      0.0      0\n",
      "1         title     object       100.0      0.0      0\n",
      "2  release_date      int64       100.0      0.0      0\n",
      "3         price    float64       100.0      0.0      0\n",
      "4            id      int64       100.0      0.0      0\n",
      "5     developer     object       100.0      0.0      0\n"
     ]
    }
   ],
   "source": [
    "def obtener_informacion_columnas(df):\n",
    "    mi_dict = {\"nombre_campo\": [], \"tipo_datos\": [], \"no_nulos_%\": [], \"nulos_%\": [], \"nulos\": []}\n",
    "\n",
    "    for columna in df.columns:\n",
    "        porcentaje_no_nulos = (df[columna].count() / len(df)) * 100\n",
    "        mi_dict[\"nombre_campo\"].append(columna)\n",
    "        mi_dict[\"tipo_datos\"].append(df[columna].dtype)\n",
    "        mi_dict[\"no_nulos_%\"].append(round(porcentaje_no_nulos, 2))\n",
    "        mi_dict[\"nulos_%\"].append(round(100 - porcentaje_no_nulos, 2))\n",
    "        mi_dict[\"nulos\"].append(df[columna].isnull().sum())\n",
    "\n",
    "    df_info = pd.DataFrame(mi_dict)\n",
    "    return df_info\n",
    "informacion_columnas = obtener_informacion_columnas(df)\n",
    "print(informacion_columnas)"
   ]
  },
  {
   "cell_type": "markdown",
   "id": "df8103ab",
   "metadata": {},
   "source": [
    "### Exportamos el dataset \n"
   ]
  },
  {
   "cell_type": "code",
   "execution_count": 206,
   "id": "0c75d51a",
   "metadata": {},
   "outputs": [],
   "source": [
    "df.to_json('../Datasets/Steam_Games_Limpio.json.gz', compression='gzip')"
   ]
  }
 ],
 "metadata": {
  "kernelspec": {
   "display_name": "Python 3",
   "language": "python",
   "name": "python3"
  },
  "language_info": {
   "codemirror_mode": {
    "name": "ipython",
    "version": 3
   },
   "file_extension": ".py",
   "mimetype": "text/x-python",
   "name": "python",
   "nbconvert_exporter": "python",
   "pygments_lexer": "ipython3",
   "version": "3.11.9"
  }
 },
 "nbformat": 4,
 "nbformat_minor": 5
}
