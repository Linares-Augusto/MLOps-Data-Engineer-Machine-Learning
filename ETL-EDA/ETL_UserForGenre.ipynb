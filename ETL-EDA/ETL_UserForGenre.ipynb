{
 "cells": [
  {
   "cell_type": "markdown",
   "metadata": {},
   "source": [
    "# ETL para dataset especifico para la funcion UserForGenre"
   ]
  },
  {
   "cell_type": "code",
   "execution_count": 12,
   "metadata": {},
   "outputs": [],
   "source": [
    "import pandas as pd\n",
    "import pyarrow.parquet as pq"
   ]
  },
  {
   "cell_type": "markdown",
   "metadata": {},
   "source": [
    "### Cargamos los Datasets"
   ]
  },
  {
   "cell_type": "code",
   "execution_count": 13,
   "metadata": {},
   "outputs": [],
   "source": [
    "steam = pd.read_json('../Datasets/Steam_Games_Limpio.json.gz', compression='gzip')\n",
    "review = pd.read_json('../Datasets/User_Reviews_Limpio.json.gz', compression='gzip')\n",
    "items = pq.read_table('Datasets OPS/items.parquet').to_pandas()"
   ]
  },
  {
   "cell_type": "markdown",
   "metadata": {},
   "source": [
    "#### Nos quedamos con la columna necesaria"
   ]
  },
  {
   "cell_type": "code",
   "execution_count": 14,
   "metadata": {},
   "outputs": [],
   "source": [
    "generosAVer = steam['genres']"
   ]
  },
  {
   "cell_type": "markdown",
   "metadata": {},
   "source": [
    "#### Guardamos en listaDeGeneros todos los generos que existen en el dataset"
   ]
  },
  {
   "cell_type": "code",
   "execution_count": 17,
   "metadata": {},
   "outputs": [],
   "source": [
    "listaDeGeneros = []\n",
    "for linea in generosAVer:\n",
    "  for i in linea:\n",
    "    if i not in listaDeGeneros:\n",
    "      listaDeGeneros.append(i)\n",
    "\n",
    "generos = {'genero':listaDeGeneros}\n",
    "df = pd.DataFrame(generos)\n",
    "df[['usuario','Horas jugadas']] = None"
   ]
  },
  {
   "cell_type": "markdown",
   "metadata": {},
   "source": [
    "#### Vemos los items de todos los usuarios"
   ]
  },
  {
   "cell_type": "code",
   "execution_count": 27,
   "metadata": {},
   "outputs": [],
   "source": [
    "user_items = items # o pd.read_json('API/Datasets/items.json') \n",
    "itemsDeUsuario = items.explode('items')\n",
    "userID = itemsDeUsuario['user_id']\n",
    "itemsDeUsuario = pd.json_normalize(itemsDeUsuario['items'])\n",
    "itemsDeUsuario['user_id'] = list(userID)\n",
    "itemsDeUsuario.drop(columns=['playtime_2weeks','item_name'], inplace=True)\n",
    "itemsDeUsuario.dropna(subset='item_id', inplace=True)"
   ]
  },
  {
   "cell_type": "markdown",
   "metadata": {},
   "source": [
    "#### Unimos los items de todos los usuarios con los que tenemos informacion en el dataset de steamgames"
   ]
  },
  {
   "cell_type": "code",
   "execution_count": 28,
   "metadata": {},
   "outputs": [
    {
     "data": {
      "text/html": [
       "<div>\n",
       "<style scoped>\n",
       "    .dataframe tbody tr th:only-of-type {\n",
       "        vertical-align: middle;\n",
       "    }\n",
       "\n",
       "    .dataframe tbody tr th {\n",
       "        vertical-align: top;\n",
       "    }\n",
       "\n",
       "    .dataframe thead th {\n",
       "        text-align: right;\n",
       "    }\n",
       "</style>\n",
       "<table border=\"1\" class=\"dataframe\">\n",
       "  <thead>\n",
       "    <tr style=\"text-align: right;\">\n",
       "      <th></th>\n",
       "      <th>item_id</th>\n",
       "      <th>playtime_forever</th>\n",
       "      <th>user_id</th>\n",
       "      <th>id</th>\n",
       "      <th>genres</th>\n",
       "      <th>release_date</th>\n",
       "    </tr>\n",
       "  </thead>\n",
       "  <tbody>\n",
       "    <tr>\n",
       "      <th>0</th>\n",
       "      <td>10</td>\n",
       "      <td>6.0</td>\n",
       "      <td>76561197970982479</td>\n",
       "      <td>10</td>\n",
       "      <td>[Action]</td>\n",
       "      <td>2000</td>\n",
       "    </tr>\n",
       "    <tr>\n",
       "      <th>1</th>\n",
       "      <td>20</td>\n",
       "      <td>0.0</td>\n",
       "      <td>76561197970982479</td>\n",
       "      <td>20</td>\n",
       "      <td>[Action]</td>\n",
       "      <td>1999</td>\n",
       "    </tr>\n",
       "    <tr>\n",
       "      <th>2</th>\n",
       "      <td>30</td>\n",
       "      <td>7.0</td>\n",
       "      <td>76561197970982479</td>\n",
       "      <td>30</td>\n",
       "      <td>[Action]</td>\n",
       "      <td>2003</td>\n",
       "    </tr>\n",
       "    <tr>\n",
       "      <th>3</th>\n",
       "      <td>40</td>\n",
       "      <td>0.0</td>\n",
       "      <td>76561197970982479</td>\n",
       "      <td>40</td>\n",
       "      <td>[Action]</td>\n",
       "      <td>2001</td>\n",
       "    </tr>\n",
       "    <tr>\n",
       "      <th>4</th>\n",
       "      <td>50</td>\n",
       "      <td>0.0</td>\n",
       "      <td>76561197970982479</td>\n",
       "      <td>50</td>\n",
       "      <td>[Action]</td>\n",
       "      <td>1999</td>\n",
       "    </tr>\n",
       "    <tr>\n",
       "      <th>...</th>\n",
       "      <td>...</td>\n",
       "      <td>...</td>\n",
       "      <td>...</td>\n",
       "      <td>...</td>\n",
       "      <td>...</td>\n",
       "      <td>...</td>\n",
       "    </tr>\n",
       "    <tr>\n",
       "      <th>4201145</th>\n",
       "      <td>304930</td>\n",
       "      <td>677.0</td>\n",
       "      <td>76561198329548331</td>\n",
       "      <td>304930</td>\n",
       "      <td>[Action, Adventure, Casual, Free to Play, Indie]</td>\n",
       "      <td>2017</td>\n",
       "    </tr>\n",
       "    <tr>\n",
       "      <th>4201146</th>\n",
       "      <td>227940</td>\n",
       "      <td>43.0</td>\n",
       "      <td>76561198329548331</td>\n",
       "      <td>227940</td>\n",
       "      <td>[Action, Free to Play, Indie, Massively Multip...</td>\n",
       "      <td>2016</td>\n",
       "    </tr>\n",
       "    <tr>\n",
       "      <th>4201147</th>\n",
       "      <td>346330</td>\n",
       "      <td>0.0</td>\n",
       "      <td>76561198329548331</td>\n",
       "      <td>346330</td>\n",
       "      <td>[Action, Adventure, Free to Play, Indie, Early...</td>\n",
       "      <td>2016</td>\n",
       "    </tr>\n",
       "    <tr>\n",
       "      <th>4201148</th>\n",
       "      <td>388490</td>\n",
       "      <td>3.0</td>\n",
       "      <td>76561198329548331</td>\n",
       "      <td>388490</td>\n",
       "      <td>[Adventure, Free to Play]</td>\n",
       "      <td>2015</td>\n",
       "    </tr>\n",
       "    <tr>\n",
       "      <th>4201149</th>\n",
       "      <td>521570</td>\n",
       "      <td>4.0</td>\n",
       "      <td>76561198329548331</td>\n",
       "      <td>521570</td>\n",
       "      <td>[Casual, Free to Play, Indie]</td>\n",
       "      <td>2016</td>\n",
       "    </tr>\n",
       "  </tbody>\n",
       "</table>\n",
       "<p>4201150 rows × 6 columns</p>\n",
       "</div>"
      ],
      "text/plain": [
       "         item_id  playtime_forever            user_id      id  \\\n",
       "0             10               6.0  76561197970982479      10   \n",
       "1             20               0.0  76561197970982479      20   \n",
       "2             30               7.0  76561197970982479      30   \n",
       "3             40               0.0  76561197970982479      40   \n",
       "4             50               0.0  76561197970982479      50   \n",
       "...          ...               ...                ...     ...   \n",
       "4201145   304930             677.0  76561198329548331  304930   \n",
       "4201146   227940              43.0  76561198329548331  227940   \n",
       "4201147   346330               0.0  76561198329548331  346330   \n",
       "4201148   388490               3.0  76561198329548331  388490   \n",
       "4201149   521570               4.0  76561198329548331  521570   \n",
       "\n",
       "                                                    genres  release_date  \n",
       "0                                                 [Action]          2000  \n",
       "1                                                 [Action]          1999  \n",
       "2                                                 [Action]          2003  \n",
       "3                                                 [Action]          2001  \n",
       "4                                                 [Action]          1999  \n",
       "...                                                    ...           ...  \n",
       "4201145   [Action, Adventure, Casual, Free to Play, Indie]          2017  \n",
       "4201146  [Action, Free to Play, Indie, Massively Multip...          2016  \n",
       "4201147  [Action, Adventure, Free to Play, Indie, Early...          2016  \n",
       "4201148                          [Adventure, Free to Play]          2015  \n",
       "4201149                      [Casual, Free to Play, Indie]          2016  \n",
       "\n",
       "[4201150 rows x 6 columns]"
      ]
     },
     "execution_count": 28,
     "metadata": {},
     "output_type": "execute_result"
    }
   ],
   "source": [
    "itemsDeUsuario['item_id'] = itemsDeUsuario['item_id'].astype(int)\n",
    "itemsDeUsuario = itemsDeUsuario.merge(steam[['id','genres','release_date']], left_on='item_id', right_on='id')\n",
    "itemsDeUsuario"
   ]
  },
  {
   "cell_type": "markdown",
   "metadata": {},
   "source": [
    "#### Calculamos por genero cual es el usuario que mas jugo a tal genero, y la cantidad de horas por año de lanzamiento del juego que tuvo"
   ]
  },
  {
   "cell_type": "code",
   "execution_count": 21,
   "metadata": {},
   "outputs": [],
   "source": [
    "for i in df['genero'].values:\n",
    "    genero = i\n",
    "\n",
    "    #Juegos del genero pedido\n",
    "    mascara = itemsDeUsuario['genres'].apply(lambda x: genero in x)\n",
    "\n",
    "    #Calcular las horas que tiene un usuario con juegos del genero\n",
    "    sumaDehoras = itemsDeUsuario[mascara].groupby('user_id')['playtime_forever'].sum().sort_values(ascending=False)\n",
    "    \n",
    "    if not sumaDehoras.empty:\n",
    "        usuario = sumaDehoras.head(1).index[0]\n",
    "    else:\n",
    "        usuario = None\n",
    "\n",
    "    df.loc[df['genero'] == genero, 'usuario'] = usuario\n",
    "\n",
    "    aniosYhoras = itemsDeUsuario[(itemsDeUsuario['user_id'] == usuario) & mascara].groupby('release_date')['playtime_forever'].sum()\n",
    "    anio = aniosYhoras.index\n",
    "    horasJugadas = {}\n",
    "    for horas, anio in enumerate(anio):\n",
    "        horasJugadas[f'Año {anio}'] = f'Horas: {aniosYhoras.iloc[horas]}'\n",
    "\n",
    "    df.loc[df['genero'] == genero, 'Horas jugadas'] = [horasJugadas]\n"
   ]
  },
  {
   "cell_type": "code",
   "execution_count": 8,
   "metadata": {},
   "outputs": [],
   "source": [
    "df['genero'] = 'Action'"
   ]
  },
  {
   "cell_type": "markdown",
   "metadata": {},
   "source": [
    "#### Hacemos unos ultimos retoques en el data set para exportarlo y poder utilizarlo en la funcion"
   ]
  },
  {
   "cell_type": "code",
   "execution_count": 29,
   "metadata": {},
   "outputs": [],
   "source": [
    "df.dropna(subset=usuario, inplace=True)\n",
    "df.reset_index(drop=True,inplace=True)"
   ]
  },
  {
   "cell_type": "code",
   "execution_count": 30,
   "metadata": {},
   "outputs": [],
   "source": [
    "df['genero'] = df['genero'].apply(lambda x: x.capitalize())"
   ]
  },
  {
   "cell_type": "code",
   "execution_count": 31,
   "metadata": {},
   "outputs": [
    {
     "data": {
      "text/html": [
       "<div>\n",
       "<style scoped>\n",
       "    .dataframe tbody tr th:only-of-type {\n",
       "        vertical-align: middle;\n",
       "    }\n",
       "\n",
       "    .dataframe tbody tr th {\n",
       "        vertical-align: top;\n",
       "    }\n",
       "\n",
       "    .dataframe thead th {\n",
       "        text-align: right;\n",
       "    }\n",
       "</style>\n",
       "<table border=\"1\" class=\"dataframe\">\n",
       "  <thead>\n",
       "    <tr style=\"text-align: right;\">\n",
       "      <th></th>\n",
       "      <th>genero</th>\n",
       "      <th>usuario</th>\n",
       "      <th>Horas jugadas</th>\n",
       "    </tr>\n",
       "  </thead>\n",
       "  <tbody>\n",
       "    <tr>\n",
       "      <th>0</th>\n",
       "      <td>Action</td>\n",
       "      <td>Sp3ctre</td>\n",
       "      <td>{'Año 1993': 'Horas: 0.0', 'Año 1995': 'Horas:...</td>\n",
       "    </tr>\n",
       "    <tr>\n",
       "      <th>1</th>\n",
       "      <td>Casual</td>\n",
       "      <td>REBAS_AS_F-T</td>\n",
       "      <td>{'Año 1999': 'Horas: 0.0', 'Año 2002': 'Horas:...</td>\n",
       "    </tr>\n",
       "    <tr>\n",
       "      <th>2</th>\n",
       "      <td>Indie</td>\n",
       "      <td>REBAS_AS_F-T</td>\n",
       "      <td>{'Año 1999': 'Horas: 0.0', 'Año 2001': 'Horas:...</td>\n",
       "    </tr>\n",
       "    <tr>\n",
       "      <th>3</th>\n",
       "      <td>Simulation</td>\n",
       "      <td>jimmynoe</td>\n",
       "      <td>{'Año 2003': 'Horas: 10.0', 'Año 2006': 'Horas...</td>\n",
       "    </tr>\n",
       "    <tr>\n",
       "      <th>4</th>\n",
       "      <td>Strategy</td>\n",
       "      <td>shinomegami</td>\n",
       "      <td>{'Año 1993': 'Horas: 22001.0', 'Año 1995': 'Ho...</td>\n",
       "    </tr>\n",
       "    <tr>\n",
       "      <th>...</th>\n",
       "      <td>...</td>\n",
       "      <td>...</td>\n",
       "      <td>...</td>\n",
       "    </tr>\n",
       "    <tr>\n",
       "      <th>68</th>\n",
       "      <td>Remake</td>\n",
       "      <td>76561198040188061</td>\n",
       "      <td>{'Año 2012': 'Horas: 4016.0'}</td>\n",
       "    </tr>\n",
       "    <tr>\n",
       "      <th>69</th>\n",
       "      <td>Time attack</td>\n",
       "      <td>76561198040188061</td>\n",
       "      <td>{'Año 2012': 'Horas: 4016.0'}</td>\n",
       "    </tr>\n",
       "    <tr>\n",
       "      <th>70</th>\n",
       "      <td>Documentary</td>\n",
       "      <td>2448531</td>\n",
       "      <td>{'Año 2011': 'Horas: 2572.0'}</td>\n",
       "    </tr>\n",
       "    <tr>\n",
       "      <th>71</th>\n",
       "      <td>Controller</td>\n",
       "      <td>76561197995146150</td>\n",
       "      <td>{'Año 2011': 'Horas: 15820.0'}</td>\n",
       "    </tr>\n",
       "    <tr>\n",
       "      <th>72</th>\n",
       "      <td>Memes</td>\n",
       "      <td>76561197995146150</td>\n",
       "      <td>{'Año 2011': 'Horas: 15820.0'}</td>\n",
       "    </tr>\n",
       "  </tbody>\n",
       "</table>\n",
       "<p>73 rows × 3 columns</p>\n",
       "</div>"
      ],
      "text/plain": [
       "         genero            usuario  \\\n",
       "0        Action            Sp3ctre   \n",
       "1        Casual       REBAS_AS_F-T   \n",
       "2         Indie       REBAS_AS_F-T   \n",
       "3    Simulation           jimmynoe   \n",
       "4      Strategy        shinomegami   \n",
       "..          ...                ...   \n",
       "68       Remake  76561198040188061   \n",
       "69  Time attack  76561198040188061   \n",
       "70  Documentary            2448531   \n",
       "71   Controller  76561197995146150   \n",
       "72        Memes  76561197995146150   \n",
       "\n",
       "                                        Horas jugadas  \n",
       "0   {'Año 1993': 'Horas: 0.0', 'Año 1995': 'Horas:...  \n",
       "1   {'Año 1999': 'Horas: 0.0', 'Año 2002': 'Horas:...  \n",
       "2   {'Año 1999': 'Horas: 0.0', 'Año 2001': 'Horas:...  \n",
       "3   {'Año 2003': 'Horas: 10.0', 'Año 2006': 'Horas...  \n",
       "4   {'Año 1993': 'Horas: 22001.0', 'Año 1995': 'Ho...  \n",
       "..                                                ...  \n",
       "68                      {'Año 2012': 'Horas: 4016.0'}  \n",
       "69                      {'Año 2012': 'Horas: 4016.0'}  \n",
       "70                      {'Año 2011': 'Horas: 2572.0'}  \n",
       "71                     {'Año 2011': 'Horas: 15820.0'}  \n",
       "72                     {'Año 2011': 'Horas: 15820.0'}  \n",
       "\n",
       "[73 rows x 3 columns]"
      ]
     },
     "execution_count": 31,
     "metadata": {},
     "output_type": "execute_result"
    }
   ],
   "source": [
    "df"
   ]
  },
  {
   "cell_type": "markdown",
   "metadata": {},
   "source": [
    "#### Exportamos el dataset para su posterior uso en la API"
   ]
  },
  {
   "cell_type": "code",
   "execution_count": null,
   "metadata": {},
   "outputs": [],
   "source": [
    "df.to_json(\".../Datasets/genre.json.gz\", compression='gzip')"
   ]
  }
 ],
 "metadata": {
  "kernelspec": {
   "display_name": "Python 3",
   "language": "python",
   "name": "python3"
  },
  "language_info": {
   "codemirror_mode": {
    "name": "ipython",
    "version": 3
   },
   "file_extension": ".py",
   "mimetype": "text/x-python",
   "name": "python",
   "nbconvert_exporter": "python",
   "pygments_lexer": "ipython3",
   "version": "3.11.9"
  }
 },
 "nbformat": 4,
 "nbformat_minor": 2
}
